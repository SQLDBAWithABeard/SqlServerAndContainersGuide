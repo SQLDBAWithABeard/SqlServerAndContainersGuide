{
  "metadata": {
    "kernelspec": {
      "name": "powershell",
      "display_name": "PowerShell"
    }
  },
  "language_info": {
    "name": "powershell",
    "version": "",
    "codemirror_mode": "shell",
    "mimetype": "text/x-sh",
    "file_extension": ".ps1"
  },
  "nbformat_minor": 2,
  "nbformat": 4,
  "cells": [
    {
      "cell_type": "markdown",
      "source": [
        "[Docker Compose](https://docs.docker.com/compose/) is a really handy tool for spinning up 1+ containers. In this wiki we'll go through a very basic compose file and how to use it to spin up SQL Server 2019.\r\n",
        "Here is a basic compose file: -\r\n",
        r\n"
      ],
      "metadata": {
        "azdata_cell_guid": "e78ff9e7-7d2d-4117-9879-cc7c545060fa"
      }
    },
    {
      "cell_type": "code",
      "source": [
        "    version: '3.7'    services:\r\n",
        "        sqlserver1:\r\n",
        "            image: mcr.microsoft.com/mssql/server:2019-CU5-ubuntu-18.04\r\n",
        "            ports:  \r\n",
        "                - \"1433:1433\r\n",
        "            environment:\r\n",
        "                - MSSQL_SA_PASSWORD=Testing1122\r\n",
        "                - ACCEPT_EULA=Y\r\n",
        r\n"
      ],
      "metadata": {
        "azdata_cell_guid": "c93cd4d9-1da9-435f-9cb5-0553824f6de0"
      },
      "outputs": [],
      "execution_count": 0
    },
    {
      "cell_type": "markdown",
      "source": [
        "In here we're: -\r\n",
        "1. Using the SQL Server 2019 CU5 Ubuntu 18.04 image, \r\n",
        "2. Mapping port 1433 on the host to 1433 within the container\r\n",
        "3. Setting the SA password to Testing1122 and accepting the end user license agreement\r\n",
        "So let's spin up a container using Docker Compose!\r\n",
        "Navigate to where the docker-compose file is and to spin up a container from our compose file run: -\r\n",
        r\n"
      ],
      "metadata": {
        "azdata_cell_guid": "c33e84f5-6301-417d-8923-bdf4a004170f"
      }
    },
    {
      "cell_type": "code",
      "source": [
        "        docker-compose up -d\r\n",
        r\n"
      ],
      "metadata": {
        "azdata_cell_guid": "7cf128f3-e8a9-4d09-987c-cec9618619ab"
      },
      "outputs": [],
      "execution_count": 0
    },
    {
      "cell_type": "markdown",
      "source": [
        "![](../images/5.DockerCompose/1.docker_compose_up.png)\r\n",
        "Let's check that the container is running: -\r\n",
        r\n"
      ],
      "metadata": {
        "azdata_cell_guid": "3a0b66ca-a997-453f-a9ff-6da3e16c00c6"
      }
    },
    {
      "cell_type": "code",
      "source": [
        "    docker container ls -a\r\n"
      ],
      "metadata": {
        "azdata_cell_guid": "2c1ad42a-0203-43e6-8dd8-d76ac1e17b7c"
      },
      "outputs": [],
      "execution_count": 0
    },
    {
      "cell_type": "markdown",
      "source": [
        "![](../images/5.DockerCompose/2.docker_container_ls.png)\r\n",
        "We also have a custom network created, more on this later: -\r\n",
        r\n"
      ],
      "metadata": {
        "azdata_cell_guid": "a33d468b-2970-448b-b5bd-ee86873f1114"
      }
    },
    {
      "cell_type": "code",
      "source": [
        "    docker network ls\r\n"
      ],
      "metadata": {
        "azdata_cell_guid": "ee044c65-9aba-4630-8b38-8ef54f30539b"
      },
      "outputs": [],
      "execution_count": 0
    },
    {
      "cell_type": "markdown",
      "source": [
        "![](../images/5.DockerCompose/3.docker_network_ls.png)\r\n",
        "Let's check that we can connect to SQL within our container: -\r\n",
        r\n"
      ],
      "metadata": {
        "azdata_cell_guid": "11493631-7979-40c4-9e7a-3adec1399534"
      }
    },
    {
      "cell_type": "code",
      "source": [
        "     mssql-cli -S localhost -U sa -P Testing1122 -Q \"SELECT @@VERSION AS [Version];\r\n"
      ],
      "metadata": {
        "azdata_cell_guid": "45d6b93a-3508-4472-8063-7c373e242049"
      },
      "outputs": [],
      "execution_count": 0
    },
    {
      "cell_type": "markdown",
      "source": [
        "![](../images/5.DockerCompose/4.mssql_cli_get_version.png)\r\n",
        "To remove the container: -\r\n",
        r\n"
      ],
      "metadata": {
        "azdata_cell_guid": "6045cdff-9362-4e4c-aef4-fe93f565ca28"
      }
    },
    {
      "cell_type": "code",
      "source": [
        "    docker-compose down\r\n"
      ],
      "metadata": {
        "azdata_cell_guid": "a481d109-444d-4945-9b5e-6545abb243bb"
      },
      "outputs": [],
      "execution_count": 0
    }
  ]
}
