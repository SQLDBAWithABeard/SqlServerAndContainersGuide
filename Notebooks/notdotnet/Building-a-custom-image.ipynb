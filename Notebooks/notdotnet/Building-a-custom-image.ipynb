{
  "metadata": {
    "kernelspec": {
      "name": "powershell",
      "display_name": "PowerShell"
    }
  },
  "language_info": {
    "name": "powershell",
    "version": "",
    "codemirror_mode": "shell",
    "mimetype": "text/x-sh",
    "file_extension": ".ps1"
  },
  "nbformat_minor": 2,
  "nbformat": 4,
  "cells": [
    {
      "cell_type": "markdown",
      "source": [
        "In the [Persisting Data](https://github.com/dbafromthecold/SqlServerAndContainersGuide/wiki/Persisting-data) wiki we used docker named volumes to persist databases from one container to another but we had a manual step to perform before we could create a database in a custom location: -\r\n",
        r\n"
      ],
      "metadata": {
        "azdata_cell_guid": "e0cb8f83-1dd9-4d46-a13e-73b3df9dd68e"
      }
    },
    {
      "cell_type": "code",
      "source": [
        "    docker exec -u 0 testcontainer8 bash -c \"chown -R mssql /var/opt/sqlserver\r\n"
      ],
      "metadata": {
        "azdata_cell_guid": "a11e1293-80d3-47d9-b4f1-462a3d1ee8bf"
      },
      "outputs": [],
      "execution_count": 0
    },
    {
      "cell_type": "markdown",
      "source": [
        "We had to do this as SQL Server 2019 does not run as root in a container, it runs as the user _**mssql**_ and as such does not have access to that custom location.\r\n",
        "So let's build a new container image that already has granted the _**mssql**_ user access to _**/var/opt/sqlserver**_. To do this we use a _**dockerfile**_: -\r\n",
        r\n"
      ],
      "metadata": {
        "azdata_cell_guid": "cbc5446d-d345-4d77-93e5-2a2838a0bf1f"
      }
    },
    {
      "cell_type": "code",
      "source": [
        "    FROM mcr.microsoft.com/mssql/server:2019-CU5-ubuntu-18.04    \r\n",
        "    USER root\r\n",
        "    \r\n",
        "    RUN mkdir /var/opt/sqlserver\r\n",
        "    \r\n",
        "    RUN chown -R mssql /var/opt/sqlserver\r\n",
        "    \r\n",
        "    ENV MSSQL_BACKUP_DIR=\"/var/opt/sqlserver\r\n",
        "    ENV MSSQL_DATA_DIR=\"/var/opt/sqlserver\r\n",
        "    ENV MSSQL_LOG_DIR=\"/var/opt/sqlserver\r\n",
        "    \r\n",
        "    USER mssql\r\n",
        "    \r\n",
        "    CMD /opt/mssql/bin/sqlservr\r\n",
        r\n"
      ],
      "metadata": {
        "azdata_cell_guid": "e65c351d-570e-400d-8813-685541b32e6a"
      },
      "outputs": [],
      "execution_count": 0
    },
    {
      "cell_type": "markdown",
      "source": [
        "Here's what each step in the _**dockerfile**_ does: -\r\n",
        "1. We start from the SQL Server 2019 CU5 Ubuntu 18.04 image. So our custom image will be based on this\r\n",
        "2. Make sure that we're running the following commands as the root user\r\n",
        "3. Create the /var/opt/sqlserver location within the container\r\n",
        "4. Change the owner of the /var/opt/sqlserver folder to the mssql user\r\n",
        "5. The next three lines use environment variables to set the default data/log/backup locations to the /var/opt/sqlserver folder\r\n",
        "6. Switch to the mssql user\r\n",
        "7. Start SQL Server\r\n",
        "So let's go ahead and build our custom image: -\r\n",
        r\n"
      ],
      "metadata": {
        "azdata_cell_guid": "2029ce0a-bd30-432a-9003-5d31c2e010bd"
      }
    },
    {
      "cell_type": "code",
      "source": [
        "    docker image build -t sqlimage1 .\r\n"
      ],
      "metadata": {
        "azdata_cell_guid": "7e6e7079-95b6-4bd1-849a-039c8ecb1f6e"
      },
      "outputs": [],
      "execution_count": 0
    },
    {
      "cell_type": "markdown",
      "source": [
        "![](../images/4.BuildingACustomImage/1.docker_build.png)\r\n",
        "Note the \".\" at the end. This is saying that the dockerfile is in the current location that I'm at in my terminal. You can specify a filepath here.\r\n",
        "Let the command complete and then we can check our local images: -\r\n",
        r\n"
      ],
      "metadata": {
        "azdata_cell_guid": "c002f655-2b79-4f5a-8989-9def09faa76c"
      }
    },
    {
      "cell_type": "code",
      "source": [
        "    docker image ls\r\n"
      ],
      "metadata": {
        "azdata_cell_guid": "a9f636c4-bd0c-4cad-a497-97ed586ffbd3"
      },
      "outputs": [],
      "execution_count": 0
    },
    {
      "cell_type": "markdown",
      "source": [
        "![](../images/4.BuildingACustomImage/2.docker_image_ls.png)\r\n",
        "Cool! Let's go ahead and run a container from that image: -\r\n",
        r\n"
      ],
      "metadata": {
        "azdata_cell_guid": "0cff9e9f-c89d-4b4a-9c53-714f99dc0947"
      }
    },
    {
      "cell_type": "code",
      "source": [
        "    docker container run -d `    -p 15789:1433 `\r\n",
        "    --env ACCEPT_EULA=Y `\r\n",
        "    --env MSSQL_SA_PASSWORD=Testing1122 `\r\n",
        "    --name sqlcontainer1 `\r\n",
        "    sqlimage1\r\n",
        r\n"
      ],
      "metadata": {
        "azdata_cell_guid": "b9edc9fe-e411-4ab9-8c46-6c6a38daa209"
      },
      "outputs": [],
      "execution_count": 0
    },
    {
      "cell_type": "markdown",
      "source": [
        "![](../images/4.BuildingACustomImage/3.docker_container_run.png)\r\n",
        "Confirm that the container is running: -\r\n",
        r\n"
      ],
      "metadata": {
        "azdata_cell_guid": "9a9bfe6b-d4d9-4fe6-8ee6-5646f2331505"
      }
    },
    {
      "cell_type": "code",
      "source": [
        "    docker container ls -a\r\n"
      ],
      "metadata": {
        "azdata_cell_guid": "c3ec572f-8c27-457a-a196-f2a34afb8a66"
      },
      "outputs": [],
      "execution_count": 0
    },
    {
      "cell_type": "markdown",
      "source": [
        "![](../images/4.BuildingACustomImage/4.docker_container_ls.png)\r\n",
        "And let's check the folder: -\r\n",
        r\n"
      ],
      "metadata": {
        "azdata_cell_guid": "ec6f7a41-6861-4dd2-94f8-65a2da850047"
      }
    },
    {
      "cell_type": "code",
      "source": [
        "    docker exec sqlcontainer1 /bin/bash -c \"ls -al /var/opt/\r\n"
      ],
      "metadata": {
        "azdata_cell_guid": "2297396e-50b4-4523-8066-f6ed7b926ab5"
      },
      "outputs": [],
      "execution_count": 0
    },
    {
      "cell_type": "markdown",
      "source": [
        "![](../images/4.BuildingACustomImage/5.docker_exec.png)\r\n",
        "The mssql user is the owner! Ok that means we can run: -\r\n",
        r\n"
      ],
      "metadata": {
        "azdata_cell_guid": "82232ee2-dea0-4d3b-b4ad-34c628cb7053"
      }
    },
    {
      "cell_type": "code",
      "source": [
        "    mssql-cli -S localhost,15789 -U sa -P Testing1122 -Q \"CREATE DATABASE [testdatabase];\r\n"
      ],
      "metadata": {
        "azdata_cell_guid": "e38b54f1-e754-4822-a6bf-0cb26f4a98bf"
      },
      "outputs": [],
      "execution_count": 0
    },
    {
      "cell_type": "markdown",
      "source": [
        "![](../images/4.BuildingACustomImage/6.mssql_cli_create_database.png)\r\n",
        "No need to manually go in and change the owner! Our database is created!\r\n",
        "We can check it's there by running: -\r\n",
        r\n"
      ],
      "metadata": {
        "azdata_cell_guid": "a8aaaf29-16c0-4de4-aa3f-6f5c06e1d518"
      }
    },
    {
      "cell_type": "code",
      "source": [
        "    mssql-cli -S localhost,15789 -U sa -P Testing1122 -Q \"SELECT [name] FROM sys.databases;\r\n"
      ],
      "metadata": {
        "azdata_cell_guid": "d1c4c7fc-f85b-46c1-bacd-ba75199b3291"
      },
      "outputs": [],
      "execution_count": 0
    },
    {
      "cell_type": "markdown",
      "source": [
        "![](../images/4.BuildingACustomImage/7.mssql_cli_get_databases.png)\r\n",
        "And confirm it's file locations: -\r\n",
        r\n"
      ],
      "metadata": {
        "azdata_cell_guid": "74bf205c-f40b-4c01-8ffd-709543595a53"
      }
    },
    {
      "cell_type": "code",
      "source": [
        "    mssql-cli -S localhost,15789 -U sa -P Testing1122 -Q \"USE [testdatabase]; EXEC sp_helpfile;\r\n"
      ],
      "metadata": {
        "azdata_cell_guid": "742a2188-2817-4c16-b4d7-1f85db132afe"
      },
      "outputs": [],
      "execution_count": 0
    }
  ]
}
