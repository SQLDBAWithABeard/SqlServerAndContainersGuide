{
  "metadata": {
    "kernelspec": {
      "name": "powershell",
      "display_name": "PowerShell"
    }
  },
  "language_info": {
    "name": "powershell",
    "version": "",
    "codemirror_mode": "shell",
    "mimetype": "text/x-sh",
    "file_extension": ".ps1"
  },
  "nbformat_minor": 2,
  "nbformat": 4,
  "cells": [
    {
      "cell_type": "markdown",
      "source": [
        r\n",
        "In the [Persisting Data](https://github.com/dbafromthecold/SqlServerAndContainersGuide/wiki/Persisting-data) wiki we used docker named volumes to persist databases from one container to another but we had a manual step to perform before we could create a database in a custom location: -\r\n",
        r\n"
      ],
      "metadata": {
        "azdata_cell_guid": "a1dee239-712e-4c64-8895-f5b0ad84f537"
      }
    },
    {
      "cell_type": "code",
      "source": [
        "    docker exec -u 0 testcontainer8 bash -c \"chown -R mssql /var/opt/sqlserver\r\n"
      ],
      "metadata": {
        "azdata_cell_guid": "3a688eb6-c39c-4d1b-8bac-6cfab770da82"
      },
      "outputs": [],
      "execution_count": 0
    },
    {
      "cell_type": "markdown",
      "source": [
        r\n",
        "We had to do this as SQL Server 2019 does not run as root in a container, it runs as the user _**mssql**_ and as such does not have access to that custom location.\r\n",
        "So let's build a new container image that already has granted the _**mssql**_ user access to _**/var/opt/sqlserver**_. To do this we use a _**dockerfile**_: -\r\n",
        r\n"
      ],
      "metadata": {
        "azdata_cell_guid": "c01a3115-808f-44ec-8751-8b78843b8688"
      }
    },
    {
      "cell_type": "code",
      "source": [
        "    FROM mcr.microsoft.com/mssql/server:2019-CU5-ubuntu-18.04\r\n",
        "    \r\n",
        "    USER root\r\n",
        "    \r\n",
        "    RUN mkdir /var/opt/sqlserver\r\n",
        "    \r\n",
        "    RUN chown -R mssql /var/opt/sqlserver\r\n",
        "    \r\n",
        "    ENV MSSQL_BACKUP_DIR=\"/var/opt/sqlserver\r\n",
        "    ENV MSSQL_DATA_DIR=\"/var/opt/sqlserver\r\n",
        "    ENV MSSQL_LOG_DIR=\"/var/opt/sqlserver\r\n",
        "    \r\n",
        "    USER mssql\r\n",
        "    \r\n",
        "    CMD /opt/mssql/bin/sqlservr\r\n"
      ],
      "metadata": {
        "azdata_cell_guid": "f3f72871-f880-4ec0-9bc0-3dedd2d91232"
      },
      "outputs": [],
      "execution_count": 0
    },
    {
      "cell_type": "markdown",
      "source": [
        r\n",
        "Here's what each step in the _**dockerfile**_ does: -\r\n",
        "1. We start from the SQL Server 2019 CU5 Ubuntu 18.04 image. So our custom image will be based on this\r\n",
        "2. Make sure that we're running the following commands as the root user\r\n",
        "3. Create the /var/opt/sqlserver location within the container\r\n",
        "4. Change the owner of the /var/opt/sqlserver folder to the mssql user\r\n",
        "5. The next three lines use environment variables to set the default data/log/backup locations to the /var/opt/sqlserver folder\r\n",
        "6. Switch to the mssql user\r\n",
        "7. Start SQL Server\r\n",
        "So let's go ahead and build our custom image: -\r\n",
        r\n"
      ],
      "metadata": {
        "azdata_cell_guid": "d8715143-3e52-414c-a026-941d05e3682c"
      }
    },
    {
      "cell_type": "code",
      "source": [
        "    docker image build -t sqlimage1 .\r\n"
      ],
      "metadata": {
        "azdata_cell_guid": "91f0d8dc-349f-4fd4-9a3e-29f62932d965"
      },
      "outputs": [],
      "execution_count": 0
    },
    {
      "cell_type": "markdown",
      "source": [
        r\n",
        "![](../images/4.BuildingACustomImage/1.docker_build.png)\r\n",
        "Note the \".\" at the end. This is saying that the dockerfile is in the current location that I'm at in my terminal. You can specify a filepath here.\r\n",
        "Let the command complete and then we can check our local images: -\r\n",
        r\n"
      ],
      "metadata": {
        "azdata_cell_guid": "e463e311-c641-4190-8f90-90930c6384d8"
      }
    },
    {
      "cell_type": "code",
      "source": [
        "    docker image ls\r\n"
      ],
      "metadata": {
        "azdata_cell_guid": "b2ac2c8c-48ac-495e-b4b6-18702fe2a65a"
      },
      "outputs": [],
      "execution_count": 0
    },
    {
      "cell_type": "markdown",
      "source": [
        r\n",
        "![](../images/4.BuildingACustomImage/2.docker_image_ls.png)\r\n",
        "Cool! Let's go ahead and run a container from that image: -\r\n",
        r\n"
      ],
      "metadata": {
        "azdata_cell_guid": "e3ffb5d5-3b14-4676-85d2-7157bdb252c8"
      }
    },
    {
      "cell_type": "code",
      "source": [
        "    docker container run -d `\r\n",
        "    -p 15789:1433 `\r\n",
        "    --env ACCEPT_EULA=Y `\r\n",
        "    --env MSSQL_SA_PASSWORD=Testing1122 `\r\n",
        "    --name sqlcontainer1 `\r\n",
        "    sqlimage1\r\n"
      ],
      "metadata": {
        "azdata_cell_guid": "dbcbbba4-6caa-4a78-82c7-eee922308146"
      },
      "outputs": [],
      "execution_count": 0
    },
    {
      "cell_type": "markdown",
      "source": [
        r\n",
        "![](../images/4.BuildingACustomImage/3.docker_container_run.png)\r\n",
        "Confirm that the container is running: -\r\n",
        r\n"
      ],
      "metadata": {
        "azdata_cell_guid": "bfb16c95-dda4-43ad-bc0a-d6cf2ffe6e7e"
      }
    },
    {
      "cell_type": "code",
      "source": [
        "    docker container ls -a\r\n"
      ],
      "metadata": {
        "azdata_cell_guid": "411f19a9-d160-4c95-bcf2-6bad27156fc8"
      },
      "outputs": [],
      "execution_count": 0
    },
    {
      "cell_type": "markdown",
      "source": [
        r\n",
        "![](../images/4.BuildingACustomImage/4.docker_container_ls.png)\r\n",
        "And let's check the folder: -\r\n",
        r\n"
      ],
      "metadata": {
        "azdata_cell_guid": "b5a5e125-2004-4652-ba61-be557d8986eb"
      }
    },
    {
      "cell_type": "code",
      "source": [
        "    docker exec sqlcontainer1 /bin/bash -c \"ls -al /var/opt/\r\n"
      ],
      "metadata": {
        "azdata_cell_guid": "24de6d8a-3b18-4aaa-aa06-b871567331b4"
      },
      "outputs": [],
      "execution_count": 0
    },
    {
      "cell_type": "markdown",
      "source": [
        r\n",
        "![](../images/4.BuildingACustomImage/5.docker_exec.png)\r\n",
        "The mssql user is the owner! Ok that means we can run: -\r\n",
        r\n"
      ],
      "metadata": {
        "azdata_cell_guid": "abdef1b6-5084-47f0-b0bf-646255c81bee"
      }
    },
    {
      "cell_type": "code",
      "source": [
        "    mssql-cli -S localhost,15789 -U sa -P Testing1122 -Q \"CREATE DATABASE [testdatabase];\r\n"
      ],
      "metadata": {
        "azdata_cell_guid": "48732abe-3c2c-48da-bd55-a3f6cd5ccd46"
      },
      "outputs": [],
      "execution_count": 0
    },
    {
      "cell_type": "markdown",
      "source": [
        r\n",
        "![](../images/4.BuildingACustomImage/6.mssql_cli_create_database.png)\r\n",
        "No need to manually go in and change the owner! Our database is created!\r\n",
        "We can check it's there by running: -\r\n",
        r\n"
      ],
      "metadata": {
        "azdata_cell_guid": "061c7615-b34b-496d-9893-1aa82e23c53c"
      }
    },
    {
      "cell_type": "code",
      "source": [
        "    mssql-cli -S localhost,15789 -U sa -P Testing1122 -Q \"SELECT [name] FROM sys.databases;\r\n"
      ],
      "metadata": {
        "azdata_cell_guid": "7e334eab-6e0d-444c-8969-f6d8d3e9a87d"
      },
      "outputs": [],
      "execution_count": 0
    },
    {
      "cell_type": "markdown",
      "source": [
        r\n",
        "![](../images/4.BuildingACustomImage/7.mssql_cli_get_databases.png)\r\n",
        "And confirm it's file locations: -\r\n",
        r\n"
      ],
      "metadata": {
        "azdata_cell_guid": "f4a1dfba-2772-41f8-8b07-52f6b556e5e1"
      }
    },
    {
      "cell_type": "code",
      "source": [
        "    mssql-cli -S localhost,15789 -U sa -P Testing1122 -Q \"USE [testdatabase]; EXEC sp_helpfile;\r\n"
      ],
      "metadata": {
        "azdata_cell_guid": "956f4383-b39f-4d4b-b15b-3998fb1d72df"
      },
      "outputs": [],
      "execution_count": 0
    }
  ]
}
