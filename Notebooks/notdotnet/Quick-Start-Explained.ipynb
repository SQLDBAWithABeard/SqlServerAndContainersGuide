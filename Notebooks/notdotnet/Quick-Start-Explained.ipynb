{
  "metadata": {
    "kernelspec": {
      "name": "powershell",
      "display_name": "PowerShell"
    }
  },
  "language_info": {
    "name": "powershell",
    "version": "",
    "codemirror_mode": "shell",
    "mimetype": "text/x-sh",
    "file_extension": ".ps1"
  },
  "nbformat_minor": 2,
  "nbformat": 4,
  "cells": [
    {
      "cell_type": "markdown",
      "source": [
        "For the quick start, we ran the following: -\r\n",
        r\n"
      ],
      "metadata": {
        "azdata_cell_guid": "8ef5da47-fe80-4275-8ef7-7a034b1d576a"
      }
    },
    {
      "cell_type": "code",
      "source": [
        "    docker container run -d -p 1433:1433 `    --env ACCEPT_EULA=Y `\r\n",
        "    --env MSSQL_SA_PASSWORD=Testing1122 `\r\n",
        "    --name sqlcontainer1 `\r\n",
        "    mcr.microsoft.com/mssql/server:2019-latest\r\n",
        r\n"
      ],
      "metadata": {
        "azdata_cell_guid": "7ac434ab-edde-48d1-8524-07ce522d3e70"
      },
      "outputs": [],
      "execution_count": 0
    },
    {
      "cell_type": "markdown",
      "source": [
        "Let's go through this [docker container run](https://docs.docker.com/engine/reference/commandline/container_run/) statement line by line, starting with: -\r\n",
        r\n"
      ],
      "metadata": {
        "azdata_cell_guid": "12e26e27-7ca8-4f54-b2be-d1979d0b9e8c"
      }
    },
    {
      "cell_type": "code",
      "source": [
        "    docker container run -d\r\n"
      ],
      "metadata": {
        "azdata_cell_guid": "14730ae1-b502-465d-992b-77c1ad6a5dd5"
      },
      "outputs": [],
      "execution_count": 0
    },
    {
      "cell_type": "markdown",
      "source": [
        "This is saying that we want to run a container in the background (the -d) so that we can continue using our shell.\r\n",
        "Next we map some ports: -\r\n",
        r\n"
      ],
      "metadata": {
        "azdata_cell_guid": "9f71a752-8601-4853-880b-7011cf9850c0"
      }
    },
    {
      "cell_type": "code",
      "source": [
        "     -p 1433:1433\r\n"
      ],
      "metadata": {
        "azdata_cell_guid": "18efc7f9-8db3-4bf2-bde3-4538d015478e"
      },
      "outputs": [],
      "execution_count": 0
    },
    {
      "cell_type": "markdown",
      "source": [
        "What this does is map port 1433 on the host (our laptop) to port 1433 within our container. This allows us to use localhost in SSMS or ADS to connect to SQL running within the container.\r\n",
        "Now we specify a couple of environment variables: -\r\n",
        r\n"
      ],
      "metadata": {
        "azdata_cell_guid": "38a2418e-a2cd-4e3d-8278-370af4fe01e9"
      }
    },
    {
      "cell_type": "code",
      "source": [
        "    --env ACCEPT_EULA=Y    --env MSSQL_SA_PASSWORD=Testing1122\r\n",
        r\n"
      ],
      "metadata": {
        "azdata_cell_guid": "ffc33a75-1629-4bb0-8ee0-2792861dba31"
      },
      "outputs": [],
      "execution_count": 0
    },
    {
      "cell_type": "markdown",
      "source": [
        "This accepts the SQL end user license agreement, which has to be done for each container spun up running SQL Server, and sets the password for the SA account to Testing1122. This is needed as Windows authentication is not supported for SQL running in a container.\r\n",
        "Then we give our container a name: -\r\n",
        r\n"
      ],
      "metadata": {
        "azdata_cell_guid": "8db48af5-cef8-41c5-81f8-804a4e187de1"
      }
    },
    {
      "cell_type": "code",
      "source": [
        "    --name sqlcontainer1\r\n"
      ],
      "metadata": {
        "azdata_cell_guid": "d098715c-8674-4cc2-a661-8b8d7a4ed6a5"
      },
      "outputs": [],
      "execution_count": 0
    },
    {
      "cell_type": "markdown",
      "source": [
        "And finally specify the image that we want to spin the container up from: -\r\n",
        r\n"
      ],
      "metadata": {
        "azdata_cell_guid": "a653723c-bd46-42c9-b25a-4450afa0125c"
      }
    },
    {
      "cell_type": "code",
      "source": [
        "     mcr.microsoft.com/mssql/server:2019-latest\r\n"
      ],
      "metadata": {
        "azdata_cell_guid": "da98ad5c-0366-4451-ae68-0051345c3954"
      },
      "outputs": [],
      "execution_count": 0
    }
  ]
}
