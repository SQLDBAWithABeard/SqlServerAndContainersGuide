{
  "metadata": {
    "kernelspec": {
      "name": "powershell",
      "display_name": "PowerShell"
    }
  },
  "language_info": {
    "name": "powershell",
    "version": "",
    "codemirror_mode": "shell",
    "mimetype": "text/x-sh",
    "file_extension": ".ps1"
  },
  "nbformat_minor": 2,
  "nbformat": 4,
  "cells": [
    {
      "cell_type": "markdown",
      "source": [
        "This page will take you through pulling a SQL Server image down from the Microsoft Container Registry and spinning up a container.\r\n",
        "We used to be able to search the Docker Hub for SQL Server container images: -\r\n",
        r\n"
      ],
      "metadata": {
        "azdata_cell_guid": "265c1b5e-4691-4e60-b73a-e0d1da598d62"
      }
    },
    {
      "cell_type": "code",
      "source": [
        "    docker search mssql\r\n"
      ],
      "metadata": {
        "azdata_cell_guid": "012c2244-9ec0-4f11-b8a2-934aa45b4ebf"
      },
      "outputs": [],
      "execution_count": 0
    },
    {
      "cell_type": "markdown",
      "source": [
        "However, Microsoft have moved their container images to the Microsoft Container Registry (MCR) so now we have to run the following: -\r\n",
        r\n"
      ],
      "metadata": {
        "azdata_cell_guid": "49c4d632-dc00-4c7b-b18d-98a336c99460"
      }
    },
    {
      "cell_type": "code",
      "source": [
        "    $repo1 = invoke-webrequest https://mcr.microsoft.com/v2/mssql/server/tags/list    $repo2 = invoke-webrequest https://mcr.microsoft.com/v2/mssql/rhel/server/tags/list\r\n",
        "    $tags = $repo1.content + $repo2.content\r\n",
        "    $tags\r\n",
        r\n"
      ],
      "metadata": {
        "azdata_cell_guid": "ba2e46bd-54d1-4f8a-b1e9-ef179f2dd576"
      },
      "outputs": [],
      "execution_count": 0
    },
    {
      "cell_type": "markdown",
      "source": [
        "STOP\r\n",
        "This will show us all the Ubuntu and Red Hat SQL Server container images that are available to us.\r\n",
        "So now we can pull down an image with: -\r\n",
        r\n"
      ],
      "metadata": {
        "azdata_cell_guid": "9baa6148-a5db-4ccb-93d3-9b1866da2f11"
      }
    },
    {
      "cell_type": "code",
      "source": [
        "    docker image pull mcr.microsoft.com/mssql/server:2019-CU5-ubuntu-18.04\r\n"
      ],
      "metadata": {
        "azdata_cell_guid": "3bd01f04-34a1-4f81-af64-3d342c388cdf"
      },
      "outputs": [],
      "execution_count": 0
    },
    {
      "cell_type": "markdown",
      "source": [
        "![](../images/2.RunningYourFirstContainer/1.docker_image_pull.png)\r\n",
        "Here we're pulling down SQL Server 2019 CU5 Ubuntu 18.04 image. I know we could just put the image into our docker container run statement but I like to pull my images down first.\r\n",
        "Once the pull is complete we can verify that the image is on our local machine with: -\r\n",
        r\n"
      ],
      "metadata": {
        "azdata_cell_guid": "a5a7ccc3-20d7-4c21-b700-59692551775b"
      }
    },
    {
      "cell_type": "code",
      "source": [
        "    docker image ls\r\n"
      ],
      "metadata": {
        "azdata_cell_guid": "cd00cb4e-f47d-4f52-9823-8d92b2270aa6"
      },
      "outputs": [],
      "execution_count": 0
    },
    {
      "cell_type": "markdown",
      "source": [
        "![](../images/2.RunningYourFirstContainer/2.docker_image_ls.png)\r\n",
        "So now we can run a container from that image: -\r\n",
        r\n"
      ],
      "metadata": {
        "azdata_cell_guid": "7c26b962-3998-4618-91f3-b02fd77224d3"
      }
    },
    {
      "cell_type": "code",
      "source": [
        "    docker container run -d `    -p 15789:1433 `\r\n",
        "    --env ACCEPT_EULA=Y `\r\n",
        "    --env MSSQL_SA_PASSWORD=Testing1122 `\r\n",
        "    --name sqlcontainer1 `\r\n",
        "    mcr.microsoft.com/mssql/server:2019-CU5-ubuntu-18.04\r\n",
        r\n"
      ],
      "metadata": {
        "azdata_cell_guid": "743f07cc-e9fc-4bcd-8c66-7baed9104f6d"
      },
      "outputs": [],
      "execution_count": 0
    },
    {
      "cell_type": "markdown",
      "source": [
        "![](../images/2.RunningYourFirstContainer/3.docker_container_run.png)\r\n",
        "Here we are spinning up a container called sqlcontainer1, accepting the EULA, setting the SA pasword to Testing1122, and mapping port 15789 on our host to port 1433 within the container.\r\n",
        "But before we connect, we can check that the container is up and running with: -\r\n",
        r\n"
      ],
      "metadata": {
        "azdata_cell_guid": "89cb2a2c-76cc-4154-86c8-fa080f175ed4"
      }
    },
    {
      "cell_type": "code",
      "source": [
        "    docker container ls -a\r\n"
      ],
      "metadata": {
        "azdata_cell_guid": "4fea73a3-d3de-4eda-b499-1842d01130ef"
      },
      "outputs": [],
      "execution_count": 0
    },
    {
      "cell_type": "markdown",
      "source": [
        "![](../images/2.RunningYourFirstContainer/4.docker_container_ls.png)\r\n",
        "The -a flag shows all containers and the [container ls]( https://docs.docker.com/engine/reference/commandline/container_ls/) command by default will only show running containers.\r\n",
        "If we want to clean up the output of that a little bit we could run: -\r\n",
        r\n"
      ],
      "metadata": {
        "azdata_cell_guid": "f4bf8870-aaa0-4746-994a-140f1d7fd971"
      }
    },
    {
      "cell_type": "code",
      "source": [
        "    docker container ls -a --format \"table {{.Names }}\\t{{ .Image }}\\t{{ .Status }}\\t{{.Ports}}\r\n"
      ],
      "metadata": {
        "azdata_cell_guid": "c26ec969-c573-4245-a788-00daf7e2df14"
      },
      "outputs": [],
      "execution_count": 0
    },
    {
      "cell_type": "markdown",
      "source": [
        "![](../images/2.RunningYourFirstContainer/5.docker_container_ls2.png)\r\n",
        "I'll go through this in more detail in a later wiki page but for now, let's move on and check the SQL logs: -\r\n",
        r\n"
      ],
      "metadata": {
        "azdata_cell_guid": "d27715d8-539a-4f90-8b2d-db94f690fa83"
      }
    },
    {
      "cell_type": "code",
      "source": [
        "    docker container logs sqlcontainer1\r\n"
      ],
      "metadata": {
        "azdata_cell_guid": "b2db537f-c07d-48dd-bcd2-2a49481b0ff5"
      },
      "outputs": [],
      "execution_count": 0
    },
    {
      "cell_type": "markdown",
      "source": [
        "![](../images/2.RunningYourFirstContainer/6.docker_container_logs.png)\r\n",
        "Cool! A nice and easy way to view the SQL Server error log!\r\n",
        "Let's connect to SQL. We could connect in SSMS with localhost,15789 or with the [mssql-cli](https://docs.microsoft.com/en-us/sql/tools/mssql-cli): -\r\n",
        r\n"
      ],
      "metadata": {
        "azdata_cell_guid": "4329c1f9-1f62-422d-b07b-a924766bbc26"
      }
    },
    {
      "cell_type": "code",
      "source": [
        "    mssql-cli -S 'localhost,15789' -U sa -P Testing1122 -Q \"SELECT @@VERSION AS [Version]\r\n"
      ],
      "metadata": {
        "azdata_cell_guid": "d831bd92-c476-45da-9ae4-9311127cd2ba"
      },
      "outputs": [],
      "execution_count": 0
    },
    {
      "cell_type": "markdown",
      "source": [
        "![](../images/2.RunningYourFirstContainer/7.mssql_cli_version.png)\r\n",
        "If we wanted to jump into the container itself, we can run: -\r\n",
        r\n"
      ],
      "metadata": {
        "azdata_cell_guid": "ec1d074e-909c-4540-a7be-d9e6b185a0b2"
      }
    },
    {
      "cell_type": "code",
      "source": [
        "    docker container exec -it sqlcontainer1 bash\r\n"
      ],
      "metadata": {
        "azdata_cell_guid": "1382a3b0-7f78-4040-8b11-f2596357d5c9"
      },
      "outputs": [],
      "execution_count": 0
    },
    {
      "cell_type": "markdown",
      "source": [
        "And then run the following to have a look at the system databases: -\r\n",
        r\n"
      ],
      "metadata": {
        "azdata_cell_guid": "5668e547-9120-4d01-bfdd-485d045a7772"
      }
    },
    {
      "cell_type": "code",
      "source": [
        "    cd /var/opt/mssql/data    ls -al\r\n",
        "    exit\r\n",
        r\n"
      ],
      "metadata": {
        "azdata_cell_guid": "a56d738f-b22d-4d33-8249-2eea5d9430a9"
      },
      "outputs": [],
      "execution_count": 0
    },
    {
      "cell_type": "markdown",
      "source": [
        "![](../images/2.RunningYourFirstContainer/8.docker_exec.png)\r\n",
        "But we don't have to jump into the container at all to run those commands, we could instead run: -\r\n",
        r\n"
      ],
      "metadata": {
        "azdata_cell_guid": "63144865-07e1-42a4-87a5-300d793f5f53"
      }
    },
    {
      "cell_type": "code",
      "source": [
        "    docker exec sqlcontainer1 /bin/bash -c \"ls -al /var/opt/mssql/data\r\n"
      ],
      "metadata": {
        "azdata_cell_guid": "15d623ae-411e-4d4e-9c85-84064ebc0d2b"
      },
      "outputs": [],
      "execution_count": 0
    }
  ]
}
