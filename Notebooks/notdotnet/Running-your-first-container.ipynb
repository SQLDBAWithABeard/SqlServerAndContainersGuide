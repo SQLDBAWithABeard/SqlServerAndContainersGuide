{
  "metadata": {
    "kernelspec": {
      "name": "powershell",
      "display_name": "PowerShell"
    }
  },
  "language_info": {
    "name": "powershell",
    "version": "",
    "codemirror_mode": "shell",
    "mimetype": "text/x-sh",
    "file_extension": ".ps1"
  },
  "nbformat_minor": 2,
  "nbformat": 4,
  "cells": [
    {
      "cell_type": "markdown",
      "source": [
        r\n",
        "This page will take you through pulling a SQL Server image down from the Microsoft Container Registry and spinning up a container.\r\n",
        "We used to be able to search the Docker Hub for SQL Server container images: -\r\n",
        r\n"
      ],
      "metadata": {
        "azdata_cell_guid": "d7da7de9-01f4-44f1-825b-6c2261775a90"
      }
    },
    {
      "cell_type": "code",
      "source": [
        "    docker search mssql\r\n"
      ],
      "metadata": {
        "azdata_cell_guid": "4a90b00a-7d6d-4f78-bf9a-c0fdb7bc38be"
      },
      "outputs": [],
      "execution_count": 0
    },
    {
      "cell_type": "markdown",
      "source": [
        r\n",
        "However, Microsoft have moved their container images to the Microsoft Container Registry (MCR) so now we have to run the following: -\r\n",
        r\n"
      ],
      "metadata": {
        "azdata_cell_guid": "182dd438-30af-49c8-9bba-21ea907df7cd"
      }
    },
    {
      "cell_type": "code",
      "source": [
        "    $repo1 = invoke-webrequest https://mcr.microsoft.com/v2/mssql/server/tags/list\r\n",
        "    $repo2 = invoke-webrequest https://mcr.microsoft.com/v2/mssql/rhel/server/tags/list\r\n",
        "    $tags = $repo1.content + $repo2.content\r\n",
        "    $tags\r\n"
      ],
      "metadata": {
        "azdata_cell_guid": "b0af5a14-58ce-48d0-8110-5acef04a9a4f"
      },
      "outputs": [],
      "execution_count": 0
    },
    {
      "cell_type": "markdown",
      "source": [
        "STOP\r\n",
        "This will show us all the Ubuntu and Red Hat SQL Server container images that are available to us.\r\n",
        "So now we can pull down an image with: -\r\n",
        r\n"
      ],
      "metadata": {
        "azdata_cell_guid": "4c4e2922-afba-47cb-a2b5-5c028b7d059a"
      }
    },
    {
      "cell_type": "code",
      "source": [
        "    docker image pull mcr.microsoft.com/mssql/server:2019-CU5-ubuntu-18.04\r\n"
      ],
      "metadata": {
        "azdata_cell_guid": "b2133165-02b6-4fed-a961-c1daf99ee342"
      },
      "outputs": [],
      "execution_count": 0
    },
    {
      "cell_type": "markdown",
      "source": [
        r\n",
        "![](../images/2.RunningYourFirstContainer/1.docker_image_pull.png)\r\n",
        "Here we're pulling down SQL Server 2019 CU5 Ubuntu 18.04 image. I know we could just put the image into our docker container run statement but I like to pull my images down first.\r\n",
        "Once the pull is complete we can verify that the image is on our local machine with: -\r\n",
        r\n"
      ],
      "metadata": {
        "azdata_cell_guid": "55b2734e-7a1c-4f66-a4c6-8d6edc8f9370"
      }
    },
    {
      "cell_type": "code",
      "source": [
        "    docker image ls\r\n"
      ],
      "metadata": {
        "azdata_cell_guid": "d8927c4d-6466-4656-852f-1c3f3fe63d7e"
      },
      "outputs": [],
      "execution_count": 0
    },
    {
      "cell_type": "markdown",
      "source": [
        r\n",
        "![](../images/2.RunningYourFirstContainer/2.docker_image_ls.png)\r\n",
        "So now we can run a container from that image: -\r\n",
        r\n"
      ],
      "metadata": {
        "azdata_cell_guid": "6664e75c-b997-4393-91b7-b02303e342f5"
      }
    },
    {
      "cell_type": "code",
      "source": [
        "    docker container run -d `\r\n",
        "    -p 15789:1433 `\r\n",
        "    --env ACCEPT_EULA=Y `\r\n",
        "    --env MSSQL_SA_PASSWORD=Testing1122 `\r\n",
        "    --name sqlcontainer1 `\r\n",
        "    mcr.microsoft.com/mssql/server:2019-CU5-ubuntu-18.04\r\n"
      ],
      "metadata": {
        "azdata_cell_guid": "3973f62c-05b8-4ba9-91ec-1dcbb9d55f17"
      },
      "outputs": [],
      "execution_count": 0
    },
    {
      "cell_type": "markdown",
      "source": [
        r\n",
        "![](../images/2.RunningYourFirstContainer/3.docker_container_run.png)\r\n",
        "Here we are spinning up a container called sqlcontainer1, accepting the EULA, setting the SA pasword to Testing1122, and mapping port 15789 on our host to port 1433 within the container.\r\n",
        "But before we connect, we can check that the container is up and running with: -\r\n",
        r\n"
      ],
      "metadata": {
        "azdata_cell_guid": "727211c7-5c8d-4400-9f62-4101b312d566"
      }
    },
    {
      "cell_type": "code",
      "source": [
        "    docker container ls -a\r\n"
      ],
      "metadata": {
        "azdata_cell_guid": "f21667be-45e5-47c1-889d-45074e172845"
      },
      "outputs": [],
      "execution_count": 0
    },
    {
      "cell_type": "markdown",
      "source": [
        r\n",
        "![](../images/2.RunningYourFirstContainer/4.docker_container_ls.png)\r\n",
        "The -a flag shows all containers and the [container ls]( https://docs.docker.com/engine/reference/commandline/container_ls/) command by default will only show running containers.\r\n",
        "If we want to clean up the output of that a little bit we could run: -\r\n",
        r\n"
      ],
      "metadata": {
        "azdata_cell_guid": "f5224259-751c-4291-8294-c5532504ab43"
      }
    },
    {
      "cell_type": "code",
      "source": [
        "    docker container ls -a --format \"table {{.Names }}\\t{{ .Image }}\\t{{ .Status }}\\t{{.Ports}}\r\n"
      ],
      "metadata": {
        "azdata_cell_guid": "e67601c5-9caa-42d7-b06d-c7db280b8c8f"
      },
      "outputs": [],
      "execution_count": 0
    },
    {
      "cell_type": "markdown",
      "source": [
        r\n",
        "![](../images/2.RunningYourFirstContainer/5.docker_container_ls2.png)\r\n",
        "I'll go through this in more detail in a later wiki page but for now, let's move on and check the SQL logs: -\r\n",
        r\n"
      ],
      "metadata": {
        "azdata_cell_guid": "822629d0-1c7f-4258-aa3c-919bafe264af"
      }
    },
    {
      "cell_type": "code",
      "source": [
        "    docker container logs sqlcontainer1\r\n"
      ],
      "metadata": {
        "azdata_cell_guid": "efeeb259-b43e-4cae-848b-afd26f818518"
      },
      "outputs": [],
      "execution_count": 0
    },
    {
      "cell_type": "markdown",
      "source": [
        r\n",
        "![](../images/2.RunningYourFirstContainer/6.docker_container_logs.png)\r\n",
        "Cool! A nice and easy way to view the SQL Server error log!\r\n",
        "Let's connect to SQL. We could connect in SSMS with localhost,15789 or with the [mssql-cli](https://docs.microsoft.com/en-us/sql/tools/mssql-cli): -\r\n",
        r\n"
      ],
      "metadata": {
        "azdata_cell_guid": "ef624e7c-89ea-46dd-ae90-2073b8b717e7"
      }
    },
    {
      "cell_type": "code",
      "source": [
        "    mssql-cli -S 'localhost,15789' -U sa -P Testing1122 -Q \"SELECT @@VERSION AS [Version]\r\n"
      ],
      "metadata": {
        "azdata_cell_guid": "1fc183b0-b044-4db8-b828-1ab6104f897f"
      },
      "outputs": [],
      "execution_count": 0
    },
    {
      "cell_type": "markdown",
      "source": [
        r\n",
        "![](../images/2.RunningYourFirstContainer/7.mssql_cli_version.png)\r\n",
        "If we wanted to jump into the container itself, we can run: -\r\n",
        r\n"
      ],
      "metadata": {
        "azdata_cell_guid": "36f61235-d9ef-4ea1-a0c1-fabb0cfe9fc7"
      }
    },
    {
      "cell_type": "code",
      "source": [
        "    docker container exec -it sqlcontainer1 bash\r\n"
      ],
      "metadata": {
        "azdata_cell_guid": "f82fd1d7-4e27-422d-a254-03e4b53c7304"
      },
      "outputs": [],
      "execution_count": 0
    },
    {
      "cell_type": "markdown",
      "source": [
        r\n",
        "And then run the following to have a look at the system databases: -\r\n",
        r\n"
      ],
      "metadata": {
        "azdata_cell_guid": "58bef534-25d1-4a0c-b2b0-223a6c4b23df"
      }
    },
    {
      "cell_type": "code",
      "source": [
        "    cd /var/opt/mssql/data\r\n",
        "    ls -al\r\n",
        "    exit\r\n"
      ],
      "metadata": {
        "azdata_cell_guid": "6003b544-5671-4452-85c7-c09657d1acd8"
      },
      "outputs": [],
      "execution_count": 0
    },
    {
      "cell_type": "markdown",
      "source": [
        r\n",
        "![](../images/2.RunningYourFirstContainer/8.docker_exec.png)\r\n",
        "But we don't have to jump into the container at all to run those commands, we could instead run: -\r\n",
        r\n"
      ],
      "metadata": {
        "azdata_cell_guid": "e8c3ffb5-999a-4f54-aa6f-04274a69b14d"
      }
    },
    {
      "cell_type": "code",
      "source": [
        "    docker exec sqlcontainer1 /bin/bash -c \"ls -al /var/opt/mssql/data\r\n"
      ],
      "metadata": {
        "azdata_cell_guid": "0e1df3fb-73d1-4304-be24-a29f4360dee0"
      },
      "outputs": [],
      "execution_count": 0
    }
  ]
}
