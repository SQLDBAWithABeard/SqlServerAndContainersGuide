{
  "metadata": {
    "kernelspec": {
      "name": ".net-powershell",
      "language": "PowerShell",
      "display_name": ".NET (PowerShell)"
    }
  },
  "language_info": {
    "name": "PowerShell",
    "version": "7.0",
    "pygments_lexer": "powershell",
    "mimetype": "text/x-powershell",
    "file_extension": ".ps1"
  },
  "nbformat_minor": 4,
  "nbformat": 4,
  "cells": [
    {
      "cell_type": "markdown",
      "source": [
        r\n",
        "For the quick start, we ran the following: -\r\n",
        r\n"
      ],
      "metadata": {
        "azdata_cell_guid": "d03d1075-16f8-4d83-b2cc-9eaf2867f39f"
      }
    },
    {
      "cell_type": "code",
      "source": [
        "    docker container run -d -p 1433:1433 `\r\n",
        "    --env ACCEPT_EULA=Y `\r\n",
        "    --env MSSQL_SA_PASSWORD=Testing1122 `\r\n",
        "    --name sqlcontainer1 `\r\n",
        "    mcr.microsoft.com/mssql/server:2019-latest\r\n"
      ],
      "metadata": {
        "azdata_cell_guid": "af4d9100-73ae-4084-96ec-1e85899e22de"
      },
      "outputs": [],
      "execution_count": 0
    },
    {
      "cell_type": "markdown",
      "source": [
        r\n",
        "Let's go through this [docker container run](https://docs.docker.com/engine/reference/commandline/container_run/) statement line by line, starting with: -\r\n",
        r\n"
      ],
      "metadata": {
        "azdata_cell_guid": "a6a8330d-ec19-409c-bee2-74db3266fc4f"
      }
    },
    {
      "cell_type": "code",
      "source": [
        "    docker container run -d\r\n"
      ],
      "metadata": {
        "azdata_cell_guid": "fc0e4927-a365-4e4f-8ee2-c15ec79e14b8"
      },
      "outputs": [],
      "execution_count": 0
    },
    {
      "cell_type": "markdown",
      "source": [
        r\n",
        "This is saying that we want to run a container in the background (the -d) so that we can continue using our shell.\r\n",
        "Next we map some ports: -\r\n",
        r\n"
      ],
      "metadata": {
        "azdata_cell_guid": "eed6d1cc-4662-4ee6-a638-c99275d860e7"
      }
    },
    {
      "cell_type": "code",
      "source": [
        "     -p 1433:1433\r\n"
      ],
      "metadata": {
        "azdata_cell_guid": "822b9ed6-8af2-4b4c-bc6c-1df34d9ea242"
      },
      "outputs": [],
      "execution_count": 0
    },
    {
      "cell_type": "markdown",
      "source": [
        r\n",
        "What this does is map port 1433 on the host (our laptop) to port 1433 within our container. This allows us to use localhost in SSMS or ADS to connect to SQL running within the container.\r\n",
        "Now we specify a couple of environment variables: -\r\n",
        r\n"
      ],
      "metadata": {
        "azdata_cell_guid": "0e828281-068f-4202-b77d-4fa79cd48530"
      }
    },
    {
      "cell_type": "code",
      "source": [
        "    --env ACCEPT_EULA=Y\r\n",
        "    --env MSSQL_SA_PASSWORD=Testing1122\r\n"
      ],
      "metadata": {
        "azdata_cell_guid": "89402c3d-a20d-414e-b912-de78157a0b0b"
      },
      "outputs": [],
      "execution_count": 0
    },
    {
      "cell_type": "markdown",
      "source": [
        r\n",
        "This accepts the SQL end user license agreement, which has to be done for each container spun up running SQL Server, and sets the password for the SA account to Testing1122. This is needed as Windows authentication is not supported for SQL running in a container.\r\n",
        "Then we give our container a name: -\r\n",
        r\n"
      ],
      "metadata": {
        "azdata_cell_guid": "a701df8b-8b09-477a-97c1-b7a41fc4a8a5"
      }
    },
    {
      "cell_type": "code",
      "source": [
        "    --name sqlcontainer1\r\n"
      ],
      "metadata": {
        "azdata_cell_guid": "ba723278-d36a-466d-9c50-ddc8bc03197a"
      },
      "outputs": [],
      "execution_count": 0
    },
    {
      "cell_type": "markdown",
      "source": [
        r\n",
        "And finally specify the image that we want to spin the container up from: -\r\n",
        r\n"
      ],
      "metadata": {
        "azdata_cell_guid": "6f2fbe3d-d1d2-47e1-9e3c-a8911e4fab69"
      }
    },
    {
      "cell_type": "code",
      "source": [
        "     mcr.microsoft.com/mssql/server:2019-latest\r\n"
      ],
      "metadata": {
        "azdata_cell_guid": "507e1c16-8a74-488a-92a2-347b14b055c8"
      },
      "outputs": [],
      "execution_count": 0
    }
  ]
}
