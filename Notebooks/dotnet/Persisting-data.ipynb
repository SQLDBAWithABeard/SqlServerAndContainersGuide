{
  "metadata": {
    "kernelspec": {
      "name": ".net-powershell",
      "language": "PowerShell",
      "display_name": ".NET (PowerShell)"
    }
  },
  "language_info": {
    "name": "PowerShell",
    "version": "7.0",
    "pygments_lexer": "powershell",
    "mimetype": "text/x-powershell",
    "file_extension": ".ps1"
  },
  "nbformat_minor": 4,
  "nbformat": 4,
  "cells": [
    {
      "cell_type": "markdown",
      "source": [
        "So far in this guide we've gone through spinning up a container and connecting to SQL Server. However containers are ephemeral by default so any changes made in SQL will be lost when we delete the container. Meaning that any databases we create will be lost, really lost. There's no way to get them back.\r\n",
        "So let's run through how we can persist our databases from one container to another by using _**docker named volumes**_.\r\n",
        "To create a named volume run: -\r\n",
        r\n"
      ],
      "metadata": {
        "azdata_cell_guid": "16f8597a-d975-416a-8498-31df95080756"
      }
    },
    {
      "cell_type": "code",
      "source": [
        "    docker volume create mssqlsystem    docker volume create mssqluser\r\n",
        r\n"
      ],
      "metadata": {
        "azdata_cell_guid": "18812fe5-a9ba-4e07-90e1-041a4f81d044"
      },
      "outputs": [],
      "execution_count": 0
    },
    {
      "cell_type": "markdown",
      "source": [
        "![](../images/3.PersistingData/1.docker_volume_create.png)\r\n",
        "Notice we're creating two volumes here, one will be for the system databases and one will be for our user databases.\r\n",
        "To check the volumes: -\r\n",
        r\n"
      ],
      "metadata": {
        "azdata_cell_guid": "dbbcacad-9c1d-4234-9114-d4147713b534"
      }
    },
    {
      "cell_type": "code",
      "source": [
        "    docker volume ls\r\n"
      ],
      "metadata": {
        "azdata_cell_guid": "43e9269d-696b-4a4a-9805-18ba844c15a9"
      },
      "outputs": [],
      "execution_count": 0
    },
    {
      "cell_type": "markdown",
      "source": [
        "![](../images/3.PersistingData/2.docker_volume_ls.png)\r\n",
        "Now we can spin up a container with those volumes mapped: -\r\n",
        r\n"
      ],
      "metadata": {
        "azdata_cell_guid": "70a8d146-e52e-4b9c-9c76-17ef49152b2c"
      }
    },
    {
      "cell_type": "code",
      "source": [
        "    docker container run -d `    -p 15789:1433 `\r\n",
        "    --volume mssqlsystem:/var/opt/mssql `\r\n",
        "    --volume mssqluser:/var/opt/sqlserver `\r\n",
        "    --env ACCEPT_EULA=Y `\r\n",
        "    --env MSSQL_SA_PASSWORD=Testing1122 `\r\n",
        "    --name sqlcontainer1 `\r\n",
        "    mcr.microsoft.com/mssql/server:2019-CU5-ubuntu-18.04\r\n",
        r\n"
      ],
      "metadata": {
        "azdata_cell_guid": "42d514e1-b07f-4561-840c-0f0aadf7d946"
      },
      "outputs": [],
      "execution_count": 0
    },
    {
      "cell_type": "markdown",
      "source": [
        "![](../images/3.PersistingData/3.docker_container_run.png)\r\n",
        "The _**mssqlsystem**_ volume is mapped to _**/var/opt/mssql**_ which is the location of the system databases.\r\n",
        "The _**mssqluser**_ volume is mapped to _**/var/opt/sqlserver**_ which will be created for us.\r\n",
        "By persisting the system databases we won't have to manually attach any user databases we create in any further containers that use these volumes. The master database will be persisted which will have a record of the database(s).\r\n",
        "Let's run through that here.\r\n",
        "First thing we need to do is grant the mssql user access to the location mapped to the mssqluser volume. We need to do this as SQL Server 2019 by default does not run as root within the container, it runs under the mssql user: -\r\n",
        r\n"
      ],
      "metadata": {
        "azdata_cell_guid": "ac89884c-7f41-42b0-bed9-0f9e61f237be"
      }
    },
    {
      "cell_type": "code",
      "source": [
        "    docker exec -u 0 sqlcontainer1 bash -c \"chown -R mssql /var/opt/sqlserver\r\n"
      ],
      "metadata": {
        "azdata_cell_guid": "8cfb53b0-b4c7-42de-98a5-68b344de7693"
      },
      "outputs": [],
      "execution_count": 0
    },
    {
      "cell_type": "markdown",
      "source": [
        "Now we can create a database: -\r\n",
        r\n"
      ],
      "metadata": {
        "azdata_cell_guid": "d3a361d0-b187-41f1-bc4a-ad82f42bdd08"
      }
    },
    {
      "cell_type": "code",
      "source": [
        "    mssql-cli -S localhost,15789 -U sa -P Testing1122 `    -Q \"CREATE DATABASE [testdatabase] ON PRIMARY (NAME='testdatabase',FILENAME='/var/opt/sqlserver/testdatabase.mdf') LOG ON (NAME='testdatabase_log',FILENAME='/var/opt/sqlserver/testdatabase_log.ldf');\r\n",
        r\n"
      ],
      "metadata": {
        "azdata_cell_guid": "44261458-5f83-4c7d-8c24-510f1457607e"
      },
      "outputs": [],
      "execution_count": 0
    },
    {
      "cell_type": "markdown",
      "source": [
        "![](../images/3.PersistingData/4.mssql_cli_create_database.png)\r\n",
        "Check that the database has been created: -\r\n",
        r\n"
      ],
      "metadata": {
        "azdata_cell_guid": "483f0d72-eab2-412b-86ae-a1e833fba327"
      }
    },
    {
      "cell_type": "code",
      "source": [
        "    mssql-cli -S localhost,15789 -U sa -P Testing1122 -Q \"SELECT [name] FROM sys.databases;\r\n"
      ],
      "metadata": {
        "azdata_cell_guid": "7d45230a-be7c-4471-98ad-54a5dbe4a147"
      },
      "outputs": [],
      "execution_count": 0
    },
    {
      "cell_type": "markdown",
      "source": [
        "![](../images/3.PersistingData/5.mssql_cli_get_databases.png)\r\n",
        "And now let's blow away that container: -\r\n",
        r\n"
      ],
      "metadata": {
        "azdata_cell_guid": "956a1222-e25a-4d08-94d3-ca2b680fd61a"
      }
    },
    {
      "cell_type": "code",
      "source": [
        "    docker container rm sqlcontainer1 -f\r\n"
      ],
      "metadata": {
        "azdata_cell_guid": "12cb484d-fa98-4bb1-a376-6b5c8c92744f"
      },
      "outputs": [],
      "execution_count": 0
    },
    {
      "cell_type": "markdown",
      "source": [
        "![](../images/3.PersistingData/6.docker_container_rm.png)\r\n",
        "Confirm that it's gone: -\r\n",
        r\n"
      ],
      "metadata": {
        "azdata_cell_guid": "e887dc99-fb96-4b8e-baf7-293ecef46af1"
      }
    },
    {
      "cell_type": "code",
      "source": [
        "    docker container ls -a\r\n"
      ],
      "metadata": {
        "azdata_cell_guid": "6536ea35-9d51-427b-b3e5-a6e5db877384"
      },
      "outputs": [],
      "execution_count": 0
    },
    {
      "cell_type": "markdown",
      "source": [
        "![](../images/3.PersistingData/7.docker_container_ls.png)\r\n",
        "OK, container is gone but we still have our volumes: -\r\n",
        r\n"
      ],
      "metadata": {
        "azdata_cell_guid": "9ba8cc40-9308-4766-af92-ac4288ec893d"
      }
    },
    {
      "cell_type": "code",
      "source": [
        "    docker volume ls\r\n"
      ],
      "metadata": {
        "azdata_cell_guid": "f0baac96-90dc-4577-9061-3cfa093f1a71"
      },
      "outputs": [],
      "execution_count": 0
    },
    {
      "cell_type": "markdown",
      "source": [
        "![](../images/3.PersistingData/2.docker_volume_ls.png)\r\n",
        "So let's now spin up another container, remapping the volumes: -\r\n",
        r\n"
      ],
      "metadata": {
        "azdata_cell_guid": "4707f35a-c105-4afc-b9f1-332276874589"
      }
    },
    {
      "cell_type": "code",
      "source": [
        "    docker container run -d `    -p 15799:1433 `\r\n",
        "    --volume mssqlsystem:/var/opt/mssql `\r\n",
        "    --volume mssqluser:/var/opt/sqlserver `\r\n",
        "    --env ACCEPT_EULA=Y `\r\n",
        "    --env MSSQL_SA_PASSWORD=Testing1122 `\r\n",
        "    --name sqlcontainer2 `\r\n",
        "    mcr.microsoft.com/mssql/server:2019-CU5-ubuntu-18.04\r\n",
        r\n"
      ],
      "metadata": {
        "azdata_cell_guid": "fd391a25-89af-409c-94c9-d0898a12e302"
      },
      "outputs": [],
      "execution_count": 0
    },
    {
      "cell_type": "markdown",
      "source": [
        "![](../images/3.PersistingData/8.docker_container_run2.png)\r\n",
        "And let's check that our database is there: -\r\n",
        r\n"
      ],
      "metadata": {
        "azdata_cell_guid": "e362a7cd-8b9e-4267-8bbf-3070ab0ce463"
      }
    },
    {
      "cell_type": "code",
      "source": [
        "    mssql-cli -S localhost,15799 -U sa -P Testing1122 -Q \"SELECT [name] FROM sys.databases;\r\n"
      ],
      "metadata": {
        "azdata_cell_guid": "3aebd990-dab8-497e-b025-da70b7a86c28"
      },
      "outputs": [],
      "execution_count": 0
    }
  ]
}
