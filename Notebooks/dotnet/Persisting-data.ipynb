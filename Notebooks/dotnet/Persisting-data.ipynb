{
  "metadata": {
    "kernelspec": {
      "name": ".net-powershell",
      "language": "PowerShell",
      "display_name": ".NET (PowerShell)"
    }
  },
  "language_info": {
    "name": "PowerShell",
    "version": "7.0",
    "pygments_lexer": "powershell",
    "mimetype": "text/x-powershell",
    "file_extension": ".ps1"
  },
  "nbformat_minor": 4,
  "nbformat": 4,
  "cells": [
    {
      "cell_type": "markdown",
      "source": [
        r\n",
        "So far in this guide we've gone through spinning up a container and connecting to SQL Server. However containers are ephemeral by default so any changes made in SQL will be lost when we delete the container. Meaning that any databases we create will be lost, really lost. There's no way to get them back.\r\n",
        "So let's run through how we can persist our databases from one container to another by using _**docker named volumes**_.\r\n",
        "To create a named volume run: -\r\n",
        r\n"
      ],
      "metadata": {
        "azdata_cell_guid": "d1bf55a4-9b8f-4e00-95f8-6a545c59969f"
      }
    },
    {
      "cell_type": "code",
      "source": [
        "    docker volume create mssqlsystem\r\n",
        "    docker volume create mssqluser\r\n"
      ],
      "metadata": {
        "azdata_cell_guid": "dd286c1f-8109-4a66-a093-dd4ac0a9a58d"
      },
      "outputs": [],
      "execution_count": 0
    },
    {
      "cell_type": "markdown",
      "source": [
        r\n",
        "![](../images/3.PersistingData/1.docker_volume_create.png)\r\n",
        "Notice we're creating two volumes here, one will be for the system databases and one will be for our user databases.\r\n",
        "To check the volumes: -\r\n",
        r\n"
      ],
      "metadata": {
        "azdata_cell_guid": "fff40a21-e40e-4a82-a348-7d5371054d1e"
      }
    },
    {
      "cell_type": "code",
      "source": [
        "    docker volume ls\r\n"
      ],
      "metadata": {
        "azdata_cell_guid": "21928dfb-12b5-4fd1-97c6-3782fe09e719"
      },
      "outputs": [],
      "execution_count": 0
    },
    {
      "cell_type": "markdown",
      "source": [
        r\n",
        "![](../images/3.PersistingData/2.docker_volume_ls.png)\r\n",
        "Now we can spin up a container with those volumes mapped: -\r\n",
        r\n"
      ],
      "metadata": {
        "azdata_cell_guid": "cd941f62-c46e-484c-9f16-e9ac1463ffc0"
      }
    },
    {
      "cell_type": "code",
      "source": [
        "    docker container run -d `\r\n",
        "    -p 15789:1433 `\r\n",
        "    --volume mssqlsystem:/var/opt/mssql `\r\n",
        "    --volume mssqluser:/var/opt/sqlserver `\r\n",
        "    --env ACCEPT_EULA=Y `\r\n",
        "    --env MSSQL_SA_PASSWORD=Testing1122 `\r\n",
        "    --name sqlcontainer1 `\r\n",
        "    mcr.microsoft.com/mssql/server:2019-CU5-ubuntu-18.04\r\n"
      ],
      "metadata": {
        "azdata_cell_guid": "2f5f735a-9dd8-43f0-9a48-a4f4bc9866a3"
      },
      "outputs": [],
      "execution_count": 0
    },
    {
      "cell_type": "markdown",
      "source": [
        r\n",
        "![](../images/3.PersistingData/3.docker_container_run.png)\r\n",
        "The _**mssqlsystem**_ volume is mapped to _**/var/opt/mssql**_ which is the location of the system databases.\r\n",
        "The _**mssqluser**_ volume is mapped to _**/var/opt/sqlserver**_ which will be created for us.\r\n",
        "By persisting the system databases we won't have to manually attach any user databases we create in any further containers that use these volumes. The master database will be persisted which will have a record of the database(s).\r\n",
        "Let's run through that here.\r\n",
        "First thing we need to do is grant the mssql user access to the location mapped to the mssqluser volume. We need to do this as SQL Server 2019 by default does not run as root within the container, it runs under the mssql user: -\r\n",
        r\n"
      ],
      "metadata": {
        "azdata_cell_guid": "abf43d0f-a3a0-4c8c-a11a-1c99f5273385"
      }
    },
    {
      "cell_type": "code",
      "source": [
        "    docker exec -u 0 sqlcontainer1 bash -c \"chown -R mssql /var/opt/sqlserver\r\n"
      ],
      "metadata": {
        "azdata_cell_guid": "84b673d6-9e7c-437b-94b6-b454b354a8c1"
      },
      "outputs": [],
      "execution_count": 0
    },
    {
      "cell_type": "markdown",
      "source": [
        r\n",
        "Now we can create a database: -\r\n",
        r\n"
      ],
      "metadata": {
        "azdata_cell_guid": "adeb505b-7675-4b16-9aae-3d6378729d04"
      }
    },
    {
      "cell_type": "code",
      "source": [
        "    mssql-cli -S localhost,15789 -U sa -P Testing1122 `\r\n",
        "    -Q \"CREATE DATABASE [testdatabase] ON PRIMARY (NAME='testdatabase',FILENAME='/var/opt/sqlserver/testdatabase.mdf') LOG ON (NAME='testdatabase_log',FILENAME='/var/opt/sqlserver/testdatabase_log.ldf');\r\n"
      ],
      "metadata": {
        "azdata_cell_guid": "9623732d-1d7d-46fa-881a-5be31cfbc093"
      },
      "outputs": [],
      "execution_count": 0
    },
    {
      "cell_type": "markdown",
      "source": [
        r\n",
        "![](../images/3.PersistingData/4.mssql_cli_create_database.png)\r\n",
        "Check that the database has been created: -\r\n",
        r\n"
      ],
      "metadata": {
        "azdata_cell_guid": "5d07eb48-20d1-409a-baaf-620d6b79bcc6"
      }
    },
    {
      "cell_type": "code",
      "source": [
        "    mssql-cli -S localhost,15789 -U sa -P Testing1122 -Q \"SELECT [name] FROM sys.databases;\r\n"
      ],
      "metadata": {
        "azdata_cell_guid": "be2c28fa-33ce-4532-83f8-baf773383347"
      },
      "outputs": [],
      "execution_count": 0
    },
    {
      "cell_type": "markdown",
      "source": [
        r\n",
        "![](../images/3.PersistingData/5.mssql_cli_get_databases.png)\r\n",
        "And now let's blow away that container: -\r\n",
        r\n"
      ],
      "metadata": {
        "azdata_cell_guid": "0825d914-a7a4-4bfd-bd04-0adac2248f36"
      }
    },
    {
      "cell_type": "code",
      "source": [
        "    docker container rm sqlcontainer1 -f\r\n"
      ],
      "metadata": {
        "azdata_cell_guid": "e856d52b-223c-4e28-ad88-14a114e3d1ed"
      },
      "outputs": [],
      "execution_count": 0
    },
    {
      "cell_type": "markdown",
      "source": [
        r\n",
        "![](../images/3.PersistingData/6.docker_container_rm.png)\r\n",
        "Confirm that it's gone: -\r\n",
        r\n"
      ],
      "metadata": {
        "azdata_cell_guid": "148e5b47-cfb1-4573-a9f8-c020c421f4c1"
      }
    },
    {
      "cell_type": "code",
      "source": [
        "    docker container ls -a\r\n"
      ],
      "metadata": {
        "azdata_cell_guid": "32863aa5-e2da-4cfd-af4b-22e000d91755"
      },
      "outputs": [],
      "execution_count": 0
    },
    {
      "cell_type": "markdown",
      "source": [
        r\n",
        "![](../images/3.PersistingData/7.docker_container_ls.png)\r\n",
        "OK, container is gone but we still have our volumes: -\r\n",
        r\n"
      ],
      "metadata": {
        "azdata_cell_guid": "29287a2a-154a-4c4c-b842-f522a636bb33"
      }
    },
    {
      "cell_type": "code",
      "source": [
        "    docker volume ls\r\n"
      ],
      "metadata": {
        "azdata_cell_guid": "7adba382-3ea5-42e5-a6b7-b1eb50683968"
      },
      "outputs": [],
      "execution_count": 0
    },
    {
      "cell_type": "markdown",
      "source": [
        r\n",
        "![](../images/3.PersistingData/2.docker_volume_ls.png)\r\n",
        "So let's now spin up another container, remapping the volumes: -\r\n",
        r\n"
      ],
      "metadata": {
        "azdata_cell_guid": "4bef247b-02d1-4d56-a665-f8268fcc72ba"
      }
    },
    {
      "cell_type": "code",
      "source": [
        "    docker container run -d `\r\n",
        "    -p 15799:1433 `\r\n",
        "    --volume mssqlsystem:/var/opt/mssql `\r\n",
        "    --volume mssqluser:/var/opt/sqlserver `\r\n",
        "    --env ACCEPT_EULA=Y `\r\n",
        "    --env MSSQL_SA_PASSWORD=Testing1122 `\r\n",
        "    --name sqlcontainer2 `\r\n",
        "    mcr.microsoft.com/mssql/server:2019-CU5-ubuntu-18.04\r\n"
      ],
      "metadata": {
        "azdata_cell_guid": "ab2bdd03-69f7-4f31-8f14-7980c003ea76"
      },
      "outputs": [],
      "execution_count": 0
    },
    {
      "cell_type": "markdown",
      "source": [
        r\n",
        "![](../images/3.PersistingData/8.docker_container_run2.png)\r\n",
        "And let's check that our database is there: -\r\n",
        r\n"
      ],
      "metadata": {
        "azdata_cell_guid": "6129a5ac-71b2-41b0-b19f-d079ce95ed3a"
      }
    },
    {
      "cell_type": "code",
      "source": [
        "    mssql-cli -S localhost,15799 -U sa -P Testing1122 -Q \"SELECT [name] FROM sys.databases;\r\n"
      ],
      "metadata": {
        "azdata_cell_guid": "8170e050-1b60-4091-8e4e-feeda252c1d0"
      },
      "outputs": [],
      "execution_count": 0
    }
  ]
}
