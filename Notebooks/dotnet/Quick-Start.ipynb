{
  "metadata": {
    "kernelspec": {
      "name": ".net-powershell",
      "language": "PowerShell",
      "display_name": ".NET (PowerShell)"
    }
  },
  "language_info": {
    "name": "PowerShell",
    "version": "7.0",
    "pygments_lexer": "powershell",
    "mimetype": "text/x-powershell",
    "file_extension": ".ps1"
  },
  "nbformat_minor": 4,
  "nbformat": 4,
  "cells": [
    {
      "cell_type": "markdown",
      "source": [
        "This guide will get you up and running with SQL Server in a Docker container in a couple of minutes. For a breakdown of what each line of code does check out the [Quick Start Explained](https://github.com/dbafromthecold/SqlServerAndContainersGuide/wiki/Quick-Start-Explained) page.\r\n",
        "To get a container up and running quickly, you can run: -\r\n",
        r\n"
      ],
      "metadata": {
        "azdata_cell_guid": "84504a32-b879-4aa0-981e-77cc7d467a14"
      }
    },
    {
      "cell_type": "code",
      "source": [
        "    docker container run -d -p 1433:1433 `    --env ACCEPT_EULA=Y `\r\n",
        "    --env MSSQL_SA_PASSWORD=Testing1122 `\r\n",
        "    --name sqlcontainer1 `\r\n",
        "    mcr.microsoft.com/mssql/server:2019-latest\r\n",
        r\n"
      ],
      "metadata": {
        "azdata_cell_guid": "0ad1fc63-8c0b-4166-ad50-2699d25c6e14"
      },
      "outputs": [],
      "execution_count": 0
    },
    {
      "cell_type": "markdown",
      "source": [
        "![](../images/1.QuickStart/1.docker_container_run.png)\r\n",
        "Execute that, the image will be pulled down for you. You can check this by running: -\r\n",
        r\n"
      ],
      "metadata": {
        "azdata_cell_guid": "cfbb5cf8-0d50-4f1e-9756-64a7159af7aa"
      }
    },
    {
      "cell_type": "code",
      "source": [
        "    docker image ls\r\n"
      ],
      "metadata": {
        "azdata_cell_guid": "d8c34ded-2eaf-4651-bd29-e83f51cdd69d"
      },
      "outputs": [],
      "execution_count": 0
    },
    {
      "cell_type": "markdown",
      "source": [
        "![](../images/1.QuickStart/2.docker_images.png)\r\n",
        "And you can then confirm that your container is running: -\r\n",
        r\n"
      ],
      "metadata": {
        "azdata_cell_guid": "36d6c51c-ddae-43a8-a8b1-9618306df876"
      }
    },
    {
      "cell_type": "code",
      "source": [
        "    docker container ls -a\r\n"
      ],
      "metadata": {
        "azdata_cell_guid": "7dadc9e2-3f16-48c4-b147-bac12b8b89f0"
      },
      "outputs": [],
      "execution_count": 0
    }
  ]
}
