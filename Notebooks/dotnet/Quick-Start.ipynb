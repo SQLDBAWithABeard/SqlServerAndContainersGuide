{
  "metadata": {
    "kernelspec": {
      "name": ".net-powershell",
      "language": "PowerShell",
      "display_name": ".NET (PowerShell)"
    }
  },
  "language_info": {
    "name": "PowerShell",
    "version": "7.0",
    "pygments_lexer": "powershell",
    "mimetype": "text/x-powershell",
    "file_extension": ".ps1"
  },
  "nbformat_minor": 4,
  "nbformat": 4,
  "cells": [
    {
      "cell_type": "markdown",
      "source": [
        r\n",
        "This guide will get you up and running with SQL Server in a Docker container in a couple of minutes. For a breakdown of what each line of code does check out the [Quick Start Explained](https://github.com/dbafromthecold/SqlServerAndContainersGuide/wiki/Quick-Start-Explained) page.\r\n",
        "To get a container up and running quickly, you can run: -\r\n",
        r\n"
      ],
      "metadata": {
        "azdata_cell_guid": "a05c0755-404f-4a3c-a935-ad4b9dfdfcba"
      }
    },
    {
      "cell_type": "code",
      "source": [
        "    docker container run -d -p 1433:1433 `\r\n",
        "    --env ACCEPT_EULA=Y `\r\n",
        "    --env MSSQL_SA_PASSWORD=Testing1122 `\r\n",
        "    --name sqlcontainer1 `\r\n",
        "    mcr.microsoft.com/mssql/server:2019-latest\r\n"
      ],
      "metadata": {
        "azdata_cell_guid": "20d787b5-1f2e-4907-9296-74453f70fadc"
      },
      "outputs": [],
      "execution_count": 0
    },
    {
      "cell_type": "markdown",
      "source": [
        r\n",
        "![](../images/1.QuickStart/1.docker_container_run.png)\r\n",
        "Execute that, the image will be pulled down for you. You can check this by running: -\r\n",
        r\n"
      ],
      "metadata": {
        "azdata_cell_guid": "5f9e091e-f6b8-4992-93b3-61684fced447"
      }
    },
    {
      "cell_type": "code",
      "source": [
        "    docker image ls\r\n"
      ],
      "metadata": {
        "azdata_cell_guid": "d33d7cb4-a684-45ec-b775-3d1f85c36d54"
      },
      "outputs": [],
      "execution_count": 0
    },
    {
      "cell_type": "markdown",
      "source": [
        r\n",
        "![](../images/1.QuickStart/2.docker_images.png)\r\n",
        "And you can then confirm that your container is running: -\r\n",
        r\n"
      ],
      "metadata": {
        "azdata_cell_guid": "79cea2eb-80d3-4126-bb7d-b8b5c38fa491"
      }
    },
    {
      "cell_type": "code",
      "source": [
        "    docker container ls -a\r\n"
      ],
      "metadata": {
        "azdata_cell_guid": "fd8d6647-f48b-4f6b-8d81-f6081f8089a6"
      },
      "outputs": [],
      "execution_count": 0
    }
  ]
}
