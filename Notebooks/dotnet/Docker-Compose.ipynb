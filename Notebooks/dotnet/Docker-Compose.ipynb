{
  "metadata": {
    "kernelspec": {
      "name": ".net-powershell",
      "language": "PowerShell",
      "display_name": ".NET (PowerShell)"
    }
  },
  "language_info": {
    "name": "PowerShell",
    "version": "7.0",
    "pygments_lexer": "powershell",
    "mimetype": "text/x-powershell",
    "file_extension": ".ps1"
  },
  "nbformat_minor": 4,
  "nbformat": 4,
  "cells": [
    {
      "cell_type": "markdown",
      "source": [
        r\n",
        "[Docker Compose](https://docs.docker.com/compose/) is a really handy tool for spinning up 1+ containers. In this wiki we'll go through a very basic compose file and how to use it to spin up SQL Server 2019.\r\n",
        "Here is a basic compose file: -\r\n",
        r\n"
      ],
      "metadata": {
        "azdata_cell_guid": "05fa0ee1-86f7-4869-b64e-09cf7f6950f5"
      }
    },
    {
      "cell_type": "code",
      "source": [
        "    version: '3.7'\r\n",
        "    services:\r\n",
        "        sqlserver1:\r\n",
        "            image: mcr.microsoft.com/mssql/server:2019-CU5-ubuntu-18.04\r\n",
        "            ports:  \r\n",
        "                - \"1433:1433\r\n",
        "            environment:\r\n",
        "                - MSSQL_SA_PASSWORD=Testing1122\r\n",
        "                - ACCEPT_EULA=Y\r\n"
      ],
      "metadata": {
        "azdata_cell_guid": "035234be-1e0f-44c1-ab89-b61656b119a4"
      },
      "outputs": [],
      "execution_count": 0
    },
    {
      "cell_type": "markdown",
      "source": [
        r\n",
        "In here we're: -\r\n",
        "1. Using the SQL Server 2019 CU5 Ubuntu 18.04 image, \r\n",
        "2. Mapping port 1433 on the host to 1433 within the container\r\n",
        "3. Setting the SA password to Testing1122 and accepting the end user license agreement\r\n",
        "So let's spin up a container using Docker Compose!\r\n",
        "Navigate to where the docker-compose file is and to spin up a container from our compose file run: -\r\n"
      ],
      "metadata": {
        "azdata_cell_guid": "22de629d-29a1-427c-a208-8978ce2b15de"
      }
    },
    {
      "cell_type": "code",
      "source": [
        "    \r\n",
        "    docker-compose up -d\r\n"
      ],
      "metadata": {
        "azdata_cell_guid": "3dc9574a-d9f0-4b92-b020-1204af73f0e0"
      },
      "outputs": [],
      "execution_count": 0
    },
    {
      "cell_type": "markdown",
      "source": [
        r\n",
        "![](../images/5.DockerCompose/1.docker_compose_up.png)\r\n",
        "Let's check that the container is running: -\r\n",
        r\n"
      ],
      "metadata": {
        "azdata_cell_guid": "a73fe587-281c-4a90-991b-973f94b8a7e3"
      }
    },
    {
      "cell_type": "code",
      "source": [
        "    docker container ls -a\r\n"
      ],
      "metadata": {
        "azdata_cell_guid": "03b1f3fd-e703-48a9-bad7-d68cccc1db7b"
      },
      "outputs": [],
      "execution_count": 0
    },
    {
      "cell_type": "markdown",
      "source": [
        r\n",
        "![](../images/5.DockerCompose/2.docker_container_ls.png)\r\n",
        "We also have a custom network created, more on this later: -\r\n",
        r\n"
      ],
      "metadata": {
        "azdata_cell_guid": "93676909-8e38-4292-8b20-b01a613e79c8"
      }
    },
    {
      "cell_type": "code",
      "source": [
        "    docker network ls\r\n"
      ],
      "metadata": {
        "azdata_cell_guid": "f7cdff93-059e-48ee-8dc8-2846e6a1f5a5"
      },
      "outputs": [],
      "execution_count": 0
    },
    {
      "cell_type": "markdown",
      "source": [
        r\n",
        "![](../images/5.DockerCompose/3.docker_network_ls.png)\r\n",
        "Let's check that we can connect to SQL within our container: -\r\n",
        r\n"
      ],
      "metadata": {
        "azdata_cell_guid": "90b2bba4-a005-4537-861b-5ef41d87f191"
      }
    },
    {
      "cell_type": "code",
      "source": [
        "     mssql-cli -S localhost -U sa -P Testing1122 -Q \"SELECT @@VERSION AS [Version];\r\n"
      ],
      "metadata": {
        "azdata_cell_guid": "c7012a00-4baf-49df-a4ab-c6f0fc3c9f1c"
      },
      "outputs": [],
      "execution_count": 0
    },
    {
      "cell_type": "markdown",
      "source": [
        r\n",
        "![](../images/5.DockerCompose/4.mssql_cli_get_version.png)\r\n",
        "To remove the container: -\r\n",
        r\n"
      ],
      "metadata": {
        "azdata_cell_guid": "72cbb4ca-857f-4523-bc6b-d92e155f7909"
      }
    },
    {
      "cell_type": "code",
      "source": [
        "    docker-compose down\r\n"
      ],
      "metadata": {
        "azdata_cell_guid": "874d73e0-e4a8-45b4-ad05-166b2c20f6d9"
      },
      "outputs": [],
      "execution_count": 0
    }
  ]
}
